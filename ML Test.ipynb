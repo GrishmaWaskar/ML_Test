{
 "cells": [
  {
   "cell_type": "code",
   "execution_count": 9,
   "id": "8a967202",
   "metadata": {},
   "outputs": [
    {
     "name": "stdout",
     "output_type": "stream",
     "text": [
      "RMSLE on validation set: 0.3408329885090962\n",
      "Model saved successfully.\n",
      "\n",
      "Prediction on the test data:\n",
      "[78.83981404 70.13099379 38.34666666 ... 94.25959441 98.1799875\n",
      " 49.36421008]\n"
     ]
    }
   ],
   "source": [
    "# Import necessary libraries\n",
    "import pandas as pd\n",
    "from sklearn.ensemble import RandomForestRegressor\n",
    "from sklearn.model_selection import train_test_split\n",
    "from sklearn.metrics import mean_squared_log_error\n",
    "import numpy as np\n",
    "import joblib\n",
    "\n",
    "# Load train and test datasets\n",
    "train = pd.read_csv(\"C:/Users/grish/Downloads/train.csv\")\n",
    "test = pd.read_csv(\"C:/Users/grish/Downloads/test.csv\")\n",
    "\n",
    "# Feature and Preprocessing\n",
    "def preprocess_data(data):\n",
    "    data['datetime']=pd.to_datetime(data['datetime'])\n",
    "    data['hour'] = data['datetime'].dt.hour\n",
    "    data['day'] = data['datetime'].dt.day\n",
    "    data['month'] = data['datetime'].dt.month\n",
    "    data['year'] = data['datetime'].dt.year\n",
    "\n",
    "preprocess_data(train)\n",
    "preprocess_data(test)\n",
    "\n",
    "# Define features and target variable\n",
    "features = ['season','holiday','workingday','weather','temp','atemp','humidity','windspeed','hour','day','month','year']\n",
    "target = 'count'\n",
    "\n",
    "# Split the data into training and validation stes\n",
    "X_train, X_val, y_train, y_val = train_test_split(train[features], train[target], test_size=0.2, random_state=42)\n",
    "\n",
    "# Train Random Forest Regression\n",
    "model = RandomForestRegressor(n_estimators=100, random_state=42)\n",
    "model.fit(X_train, np.log1p(y_train))\n",
    "\n",
    "# Predict on the validation srt\n",
    "pred = np.expm1(model.predict(X_val))\n",
    "\n",
    "# Calculate RMSLE\n",
    "rmsle = np.sqrt(mean_squared_log_error(y_val, pred))\n",
    "print(f\"RMSLE on validation set: {rmsle}\")\n",
    "\n",
    "# Train final model\n",
    "final_model = RandomForestRegressor(n_estimators=100, random_state=42)\n",
    "final_model.fit(train[features],np.log1p(train[target]))\n",
    "\n",
    "# Save the trained model\n",
    "joblib.dump(final_model,'ML_model.sav')\n",
    "print(\"Model saved successfully.\")\n",
    "\n",
    "# Load the saved model\n",
    "loaded_model = joblib.load('ML_model.sav')\n",
    "\n",
    "# Predict on the test data  using the loaded model\n",
    "test_pred = np.expm1(final_model.predict(test[features]))\n",
    "\n",
    "# Display the Predictions\n",
    "print(\"\\nPrediction on the test data:\")\n",
    "print(test_pred)"
   ]
  },
  {
   "cell_type": "code",
   "execution_count": null,
   "id": "a395a18d",
   "metadata": {},
   "outputs": [],
   "source": []
  }
 ],
 "metadata": {
  "kernelspec": {
   "display_name": "Python 3 (ipykernel)",
   "language": "python",
   "name": "python3"
  },
  "language_info": {
   "codemirror_mode": {
    "name": "ipython",
    "version": 3
   },
   "file_extension": ".py",
   "mimetype": "text/x-python",
   "name": "python",
   "nbconvert_exporter": "python",
   "pygments_lexer": "ipython3",
   "version": "3.11.4"
  }
 },
 "nbformat": 4,
 "nbformat_minor": 5
}
